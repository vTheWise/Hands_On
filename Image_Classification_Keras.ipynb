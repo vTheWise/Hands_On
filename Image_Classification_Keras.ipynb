{
  "nbformat": 4,
  "nbformat_minor": 0,
  "metadata": {
    "colab": {
      "provenance": [],
      "collapsed_sections": [
        "gjCpTpgU2lO8",
        "NoczP3cu22H7"
      ],
      "authorship_tag": "ABX9TyNFyKvYusCgjt1RZMhvWgUB",
      "include_colab_link": true
    },
    "kernelspec": {
      "name": "python3",
      "display_name": "Python 3"
    },
    "language_info": {
      "name": "python"
    },
    "accelerator": "GPU",
    "gpuClass": "standard"
  },
  "cells": [
    {
      "cell_type": "markdown",
      "metadata": {
        "id": "view-in-github",
        "colab_type": "text"
      },
      "source": [
        "<a href=\"https://colab.research.google.com/github/vTheWise/Hands_On/blob/images/Image_Classification_Keras.ipynb\" target=\"_parent\"><img src=\"https://colab.research.google.com/assets/colab-badge.svg\" alt=\"Open In Colab\"/></a>"
      ]
    },
    {
      "cell_type": "markdown",
      "source": [
        "# Imports"
      ],
      "metadata": {
        "id": "LnirA3ud2eWr"
      }
    },
    {
      "cell_type": "code",
      "execution_count": 1,
      "metadata": {
        "id": "I437pnFw2a41"
      },
      "outputs": [],
      "source": [
        "import tensorflow as tf\n",
        "from tensorflow import keras\n",
        "from tensorflow.keras import layers"
      ]
    },
    {
      "cell_type": "code",
      "source": [
        "import os"
      ],
      "metadata": {
        "id": "r_Ejnl333K7N"
      },
      "execution_count": 6,
      "outputs": []
    },
    {
      "cell_type": "markdown",
      "source": [
        "# Data Handling"
      ],
      "metadata": {
        "id": "KoCMHEk72i7o"
      }
    },
    {
      "cell_type": "markdown",
      "source": [
        "## Download Raw Data"
      ],
      "metadata": {
        "id": "gjCpTpgU2lO8"
      }
    },
    {
      "cell_type": "code",
      "source": [
        "!curl -O https://download.microsoft.com/download/3/E/1/3E1C3F21-ECDB-4869-8368-6DEBA77B919F/kagglecatsanddogs_5340.zip"
      ],
      "metadata": {
        "colab": {
          "base_uri": "https://localhost:8080/"
        },
        "id": "cSoBKQSh2hHF",
        "outputId": "89b1a78d-71ee-4fdd-a1ce-97ac54651599"
      },
      "execution_count": 2,
      "outputs": [
        {
          "output_type": "stream",
          "name": "stdout",
          "text": [
            "  % Total    % Received % Xferd  Average Speed   Time    Time     Time  Current\n",
            "                                 Dload  Upload   Total   Spent    Left  Speed\n",
            "100  786M  100  786M    0     0   140M      0  0:00:05  0:00:05 --:--:--  146M\n"
          ]
        }
      ]
    },
    {
      "cell_type": "code",
      "source": [
        "!unzip -q kagglecatsanddogs_5340.zip"
      ],
      "metadata": {
        "id": "03HtTgwA2pg1"
      },
      "execution_count": 3,
      "outputs": []
    },
    {
      "cell_type": "code",
      "source": [
        "!ls"
      ],
      "metadata": {
        "colab": {
          "base_uri": "https://localhost:8080/"
        },
        "id": "nGHkqyXB2stt",
        "outputId": "f45a8f90-11a4-4800-83ab-81b0024168e6"
      },
      "execution_count": 4,
      "outputs": [
        {
          "output_type": "stream",
          "name": "stdout",
          "text": [
            " CDLA-Permissive-2.0.pdf      PetImages        sample_data\n",
            " kagglecatsanddogs_5340.zip  'readme[1].txt'\n"
          ]
        }
      ]
    },
    {
      "cell_type": "code",
      "source": [
        "!ls PetImages"
      ],
      "metadata": {
        "colab": {
          "base_uri": "https://localhost:8080/"
        },
        "id": "P91nr9Bs2vxT",
        "outputId": "3c31c6cb-08b6-425f-d596-1cce7243f581"
      },
      "execution_count": 5,
      "outputs": [
        {
          "output_type": "stream",
          "name": "stdout",
          "text": [
            "Cat  Dog\n"
          ]
        }
      ]
    },
    {
      "cell_type": "markdown",
      "source": [
        "## Filter out corrupted images\n",
        "\n",
        "\n",
        "*  filter out badly-encoded images that do not feature the string \"JFIF\" in their header\n",
        "* The peek() function can be used to peek into file content without moving the position of the cursor in the file. This function is only available for files opened in binary mode\n",
        "\n"
      ],
      "metadata": {
        "id": "NoczP3cu22H7"
      }
    },
    {
      "cell_type": "code",
      "source": [
        "num_skipped = 0\n",
        "for folder_name in (\"Cat\", \"Dog\"):\n",
        "    folder_path = os.path.join(\"PetImages\", folder_name)\n",
        "    for fname in os.listdir(folder_path):\n",
        "        fpath = os.path.join(folder_path, fname)\n",
        "        try:\n",
        "            fobj = open(fpath, \"rb\")\n",
        "            is_jfif = tf.compat.as_bytes(\"JFIF\") in fobj.peek(10)\n",
        "        finally:\n",
        "            fobj.close()\n",
        "\n",
        "        if not is_jfif:\n",
        "            num_skipped += 1\n",
        "            # Delete corrupted image\n",
        "            os.remove(fpath)\n",
        "\n",
        "print(\"Deleted %d images\" % num_skipped)"
      ],
      "metadata": {
        "colab": {
          "base_uri": "https://localhost:8080/"
        },
        "id": "qP2iEc7g2ylg",
        "outputId": "239a6e5a-90b1-4809-c659-e71aafc9bfb6"
      },
      "execution_count": 7,
      "outputs": [
        {
          "output_type": "stream",
          "name": "stdout",
          "text": [
            "Deleted 1590 images\n"
          ]
        }
      ]
    },
    {
      "cell_type": "markdown",
      "source": [
        "## Generate Dataset\n",
        "\n",
        "* tf.keras.utils.image_dataset_from_directory: \n",
        "  * Generates a tf.data.Dataset from image files in a directory \n",
        "\n",
        "* If your directory structure is:\n",
        "\n",
        "```\n",
        "  main_directory/\n",
        "  ...class_a/\n",
        "  ......a_image_1.jpg\n",
        "  ......a_image_2.jpg\n",
        "  ...class_b/\n",
        "  ......b_image_1.jpg\n",
        "  ......b_image_2.jpg\n",
        "```"
      ],
      "metadata": {
        "id": "dZI-p5pC4P-i"
      }
    },
    {
      "cell_type": "code",
      "source": [
        "image_size = (180, 180)\n",
        "batch_size = 128\n",
        "\n",
        "train_ds, val_ds = tf.keras.utils.image_dataset_from_directory(\n",
        "    \"PetImages\",\n",
        "    validation_split=0.2,\n",
        "    subset=\"both\",\n",
        "    seed=1337,\n",
        "    image_size=image_size,\n",
        "    batch_size=batch_size,\n",
        ")"
      ],
      "metadata": {
        "id": "w1JGrNUb4M3A"
      },
      "execution_count": null,
      "outputs": []
    }
  ]
}